{
 "cells": [
  {
   "cell_type": "markdown",
   "metadata": {},
   "source": [
    "# **GC7 Model Inference**"
   ]
  },
  {
   "cell_type": "markdown",
   "metadata": {},
   "source": [
    "Farhan Falahaqil Rafi\n",
    "\n",
    "FTDS-003-BSD"
   ]
  },
  {
   "cell_type": "markdown",
   "metadata": {},
   "source": [
    "# **Import Libraries**"
   ]
  },
  {
   "cell_type": "code",
   "execution_count": null,
   "metadata": {},
   "outputs": [],
   "source": [
    "from transformers import BertForSequenceClassification, BertTokenizer\n",
    "import pandas as pd\n",
    "import torch"
   ]
  },
  {
   "cell_type": "markdown",
   "metadata": {},
   "source": [
    "# **Model Loading**"
   ]
  },
  {
   "cell_type": "code",
   "execution_count": 3,
   "metadata": {},
   "outputs": [
    {
     "name": "stderr",
     "output_type": "stream",
     "text": [
      "c:\\Users\\farha\\Documents\\GitHub\\p2-ftds003-bsd-g7-7sugiwa\\.conda\\lib\\site-packages\\tqdm\\auto.py:21: TqdmWarning: IProgress not found. Please update jupyter and ipywidgets. See https://ipywidgets.readthedocs.io/en/stable/user_install.html\n",
      "  from .autonotebook import tqdm as notebook_tqdm\n",
      "Some weights of the model checkpoint at ./my_fine_tuned_bert were not used when initializing BertForSequenceClassification: ['classifier.0.num_batches_tracked', 'classifier.0.running_var', 'classifier.0.bias', 'classifier.0.running_mean', 'classifier.1.weight', 'classifier.0.weight', 'classifier.1.bias']\n",
      "- This IS expected if you are initializing BertForSequenceClassification from the checkpoint of a model trained on another task or with another architecture (e.g. initializing a BertForSequenceClassification model from a BertForPreTraining model).\n",
      "- This IS NOT expected if you are initializing BertForSequenceClassification from the checkpoint of a model that you expect to be exactly identical (initializing a BertForSequenceClassification model from a BertForSequenceClassification model).\n",
      "Some weights of BertForSequenceClassification were not initialized from the model checkpoint at ./my_fine_tuned_bert and are newly initialized: ['classifier.weight', 'classifier.bias']\n",
      "You should probably TRAIN this model on a down-stream task to be able to use it for predictions and inference.\n"
     ]
    }
   ],
   "source": [
    "# Load the fine-tuned model\n",
    "model = BertForSequenceClassification.from_pretrained('./my_fine_tuned_bert')\n",
    "tokenizer = BertTokenizer.from_pretrained('bert-base-uncased')"
   ]
  },
  {
   "cell_type": "markdown",
   "metadata": {},
   "source": [
    "# **Data Loading**"
   ]
  },
  {
   "cell_type": "code",
   "execution_count": 1,
   "metadata": {},
   "outputs": [
    {
     "name": "stdout",
     "output_type": "stream",
     "text": [
      "                                            headline\n",
      "0        Catholics Explain Why They Oppose Surrogacy\n",
      "1         Quiz: Who Said It, Donald Trump Or Hitler?\n",
      "2  Worst Pieces Of Sex Advice From Women's Magazines\n",
      "3  Republicans Explain Why They Don't Need Women ...\n",
      "4         Americans Explain Who Jesus Would Vote For\n",
      "5        Christians Explain Why Atheists Are Bullies\n"
     ]
    }
   ],
   "source": [
    "# List of headlines\n",
    "headlines = [\n",
    "    \"Catholics Explain Why They Oppose Surrogacy\",\n",
    "    \"Quiz: Who Said It, Donald Trump Or Hitler?\",\n",
    "    \"Worst Pieces Of Sex Advice From Women's Magazines\",\n",
    "    \"Republicans Explain Why They Don't Need Women Voters\",\n",
    "    \"Americans Explain Who Jesus Would Vote For\",\n",
    "    \"Christians Explain Why Atheists Are Bullies\"\n",
    "]\n",
    "\n",
    "# Creating a DataFrame\n",
    "df_headlines = pd.DataFrame(headlines, columns=['headline'])\n",
    "\n",
    "# Displaying the DataFrame\n",
    "print(df_headlines)"
   ]
  },
  {
   "cell_type": "markdown",
   "metadata": {},
   "source": [
    "# **Model Inference**"
   ]
  },
  {
   "cell_type": "code",
   "execution_count": 4,
   "metadata": {},
   "outputs": [
    {
     "name": "stdout",
     "output_type": "stream",
     "text": [
      "                                            headline predicted_label\n",
      "0        Catholics Explain Why They Oppose Surrogacy   Not Sarcastic\n",
      "1         Quiz: Who Said It, Donald Trump Or Hitler?   Not Sarcastic\n",
      "2  Worst Pieces Of Sex Advice From Women's Magazines   Not Sarcastic\n",
      "3  Republicans Explain Why They Don't Need Women ...   Not Sarcastic\n",
      "4         Americans Explain Who Jesus Would Vote For       Sarcastic\n",
      "5        Christians Explain Why Atheists Are Bullies   Not Sarcastic\n"
     ]
    }
   ],
   "source": [
    "# Tokenize the headlines in the DataFrame\n",
    "inputs = tokenizer(df_headlines['headline'].tolist(), padding=True, truncation=True, max_length=256, return_tensors=\"pt\")\n",
    "\n",
    "# Move the model to GPU if available\n",
    "device = torch.device(\"cuda\" if torch.cuda.is_available() else \"cpu\")\n",
    "model.to(device)\n",
    "\n",
    "# Prepare the data for the model\n",
    "input_ids = inputs['input_ids'].to(device)\n",
    "attention_mask = inputs['attention_mask'].to(device)\n",
    "\n",
    "# Perform inference\n",
    "model.eval()  # Set the model to evaluation mode\n",
    "with torch.no_grad():\n",
    "    outputs = model(input_ids, attention_mask=attention_mask)\n",
    "\n",
    "# Process the outputs to get predictions\n",
    "predictions = torch.argmax(outputs.logits, dim=1)\n",
    "\n",
    "# Map predictions to corresponding labels (e.g., 0 for 'Not Sarcastic', 1 for 'Sarcastic')\n",
    "# (Adjust label names as per your original training labels)\n",
    "predicted_labels = [\"Sarcastic\" if pred.item() == 1 else \"Not Sarcastic\" for pred in predictions]\n",
    "\n",
    "# Add the predictions to the DataFrame\n",
    "df_headlines['predicted_label'] = predicted_labels\n",
    "\n",
    "# Display the DataFrame with predictions\n",
    "print(df_headlines)"
   ]
  }
 ],
 "metadata": {
  "kernelspec": {
   "display_name": "Python 3",
   "language": "python",
   "name": "python3"
  },
  "language_info": {
   "codemirror_mode": {
    "name": "ipython",
    "version": 3
   },
   "file_extension": ".py",
   "mimetype": "text/x-python",
   "name": "python",
   "nbconvert_exporter": "python",
   "pygments_lexer": "ipython3",
   "version": "3.9.18"
  }
 },
 "nbformat": 4,
 "nbformat_minor": 2
}
